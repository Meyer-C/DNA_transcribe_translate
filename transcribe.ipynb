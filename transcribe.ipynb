{
  "metadata": {
    "kernelspec": {
      "name": "python",
      "display_name": "Python (Pyodide)",
      "language": "python"
    },
    "language_info": {
      "codemirror_mode": {
        "name": "python",
        "version": 3
      },
      "file_extension": ".py",
      "mimetype": "text/x-python",
      "name": "python",
      "nbconvert_exporter": "python",
      "pygments_lexer": "ipython3",
      "version": "3.8"
    }
  },
  "nbformat_minor": 4,
  "nbformat": 4,
  "cells": [
    {
      "cell_type": "code",
      "source": "hello = \"hello world\"\nprint(hello)",
      "metadata": {
        "trusted": true
      },
      "outputs": [
        {
          "name": "stdout",
          "text": "hello world\n",
          "output_type": "stream"
        }
      ],
      "execution_count": 6
    },
    {
      "cell_type": "code",
      "source": "def transcribe(DNA):\n    DNA_RNA = {\"A\":\"U\",\"T\":\"A\",\"C\":\"G\",\"G\":\"C\"}\n    mRNA = \"\"\n    for base in DNA:\n        mRNA += DNA_RNA.get(base)\n    return mRNA\n    \nDNA = \"\"\nmRNA = transcribe(DNA)\nprint(mRNA)",
      "metadata": {
        "trusted": true
      },
      "outputs": [
        {
          "name": "stdout",
          "text": "AUGC\n",
          "output_type": "stream"
        }
      ],
      "execution_count": 37
    },
    {
      "cell_type": "code",
      "source": "def translate(mRNA):\n    mRNA_tRNA = {\"A\":\"U\", \"U\":\"A\", \"C\":\"G\", \"G\":\"C\"}\n    tRNA = \"\"\n    for base in mRNA:\n        tRNA += mRNA_tRNA.get(base)\n    codon_table = {\n    'UUU': 'F', 'UUC': 'F',\n    'UUA': 'L', 'UUG': 'L',\n    'CUU': 'L', 'CUC': 'L', 'CUA': 'L', 'CUG': 'L',\n    'AUU': 'I', 'AUC': 'I', 'AUA': 'I', 'AUG': 'M',\n    'GUU': 'V', 'GUC': 'V', 'GUA': 'V', 'GUG': 'V',\n\n    'UCU': 'S', 'UCC': 'S', 'UCA': 'S', 'UCG': 'S',\n    'CCU': 'P', 'CCC': 'P', 'CCA': 'P', 'CCG': 'P',\n    'ACU': 'T', 'ACC': 'T', 'ACA': 'T', 'ACG': 'T',\n    'GCU': 'A', 'GCC': 'A', 'GCA': 'A', 'GCG': 'A',\n\n    'UAU': 'Y', 'UAC': 'Y', 'UAA': '#', 'UAG': '#',\n    'CAU': 'H', 'CAC': 'H', 'CAA': 'Q', 'CAG': 'Q',\n    'AAU': 'N', 'AAC': 'N', 'AAA': 'K', 'AAG': 'K',\n    'GAU': 'D', 'GAC': 'D', 'GAA': 'E', 'GAG': 'E',\n\n    'UGU': 'C', 'UGC': 'C', 'UGA': '#', 'UGG': 'W',\n    'CGU': 'R', 'CGC': 'R', 'CGA': 'R', 'CGG': 'R',\n    'AGU': 'S', 'AGC': 'S', 'AGA': 'R', 'AGG': 'R',\n    'GGU': 'G', 'GGC': 'G', 'GGA': 'G', 'GGG': 'G'\n}\n    protein = \"\"\n    for i in range(int(len(tRNA)/3)):\n        j = i*3\n        codon = tRNA[j:j+3]\n        protein += codon_table.get(codon)\n    return protein\n\nDNA = \"\"\nmRNA = transcribe(DNA)\nprotein = translate(mRNA)\nprint(protein)\n\n\n\n\n        ",
      "metadata": {
        "trusted": true
      },
      "outputs": [
        {
          "name": "stdout",
          "text": "MECFKTTLAGVVLVVLLLQQAPVLRANDPDPLQDFCVADLDSEVTLNGYPCKPTPAAGDEFLFSSRLATGGDVNANPNGSNVTQLDVAGWPGVNTLGVSMNRIDFAPGGTNPPHVHPRATEVGIVLRGELLVGIIGSLDTGNRYYSRVVRGGETFVIPRGLMHFQFNVGKTEATMVVSFNSQNPGIVFVPLTLFGSNPPIPTPVLVKALRVDAGVVELLKSKF\n",
          "output_type": "stream"
        }
      ],
      "execution_count": 40
    }
  ]
}
